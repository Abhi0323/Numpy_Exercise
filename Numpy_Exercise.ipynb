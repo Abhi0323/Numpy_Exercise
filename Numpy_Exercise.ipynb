{
 "cells": [
  {
   "cell_type": "code",
   "execution_count": 1,
   "id": "05a46168",
   "metadata": {},
   "outputs": [],
   "source": [
    "import numpy as np"
   ]
  },
  {
   "cell_type": "markdown",
   "id": "d234883b",
   "metadata": {},
   "source": [
    "# Array Creation and Manipulation"
   ]
  },
  {
   "cell_type": "code",
   "execution_count": 10,
   "id": "7cecae40",
   "metadata": {},
   "outputs": [
    {
     "name": "stdout",
     "output_type": "stream",
     "text": [
      "[[1 2]\n",
      " [3 4]]\n"
     ]
    }
   ],
   "source": [
    "# Creating a 2D array\n",
    "arr = np.array([[1, 2], [3, 4]])\n",
    "print(arr)"
   ]
  },
  {
   "cell_type": "code",
   "execution_count": 6,
   "id": "ec0cbb74",
   "metadata": {},
   "outputs": [
    {
     "name": "stdout",
     "output_type": "stream",
     "text": [
      "[1. 2. 3.]\n"
     ]
    }
   ],
   "source": [
    "# Creating an array with specific data type\n",
    "arr = np.array([1, 2, 3], dtype=np.float32)\n",
    "print(arr)"
   ]
  },
  {
   "cell_type": "code",
   "execution_count": 7,
   "id": "bbe5a354",
   "metadata": {},
   "outputs": [
    {
     "name": "stdout",
     "output_type": "stream",
     "text": [
      "[[1 2 3]\n",
      " [4 5 6]]\n"
     ]
    }
   ],
   "source": [
    "# Reshaping an array\n",
    "arr = np.array([[1, 2, 3], [4, 5, 6]])\n",
    "arr_reshaped = arr.reshape(3, 2)\n",
    "print(arr)"
   ]
  },
  {
   "cell_type": "code",
   "execution_count": 8,
   "id": "6faa79e2",
   "metadata": {},
   "outputs": [
    {
     "name": "stdout",
     "output_type": "stream",
     "text": [
      "[1 2 3 4 5 6]\n"
     ]
    }
   ],
   "source": [
    "# Flattening an array\n",
    "arr_flat = arr.flatten()\n",
    "print(arr_flat)"
   ]
  },
  {
   "cell_type": "code",
   "execution_count": 9,
   "id": "30904724",
   "metadata": {},
   "outputs": [
    {
     "name": "stdout",
     "output_type": "stream",
     "text": [
      "[1 2 3 4 5 6]\n"
     ]
    }
   ],
   "source": [
    "# Concatenating arrays\n",
    "arr1 = np.array([1, 2, 3])\n",
    "arr2 = np.array([4, 5, 6])\n",
    "arr_concatenated = np.concatenate((arr1, arr2))\n",
    "print(arr_concatenated)"
   ]
  },
  {
   "cell_type": "markdown",
   "id": "07cc4269",
   "metadata": {},
   "source": [
    "# Vectorized Operations"
   ]
  },
  {
   "cell_type": "code",
   "execution_count": 12,
   "id": "0f7810d7",
   "metadata": {},
   "outputs": [
    {
     "name": "stdout",
     "output_type": "stream",
     "text": [
      "[5 7 9]\n"
     ]
    }
   ],
   "source": [
    "# Adding two arrays element-wise\n",
    "arr1 = np.array([1, 2, 3])\n",
    "arr2 = np.array([4, 5, 6])\n",
    "arr_sum = arr1 + arr2\n",
    "print(arr_sum)"
   ]
  },
  {
   "cell_type": "code",
   "execution_count": 13,
   "id": "698e32fa",
   "metadata": {},
   "outputs": [
    {
     "name": "stdout",
     "output_type": "stream",
     "text": [
      "[ 4 10 18]\n"
     ]
    }
   ],
   "source": [
    "# Multiplying two arrays element-wise\n",
    "arr1 = np.array([1, 2, 3])\n",
    "arr2 = np.array([4, 5, 6])\n",
    "arr_product = arr1 * arr2\n",
    "print(arr_product)"
   ]
  },
  {
   "cell_type": "code",
   "execution_count": 14,
   "id": "e8eb182a",
   "metadata": {},
   "outputs": [
    {
     "name": "stdout",
     "output_type": "stream",
     "text": [
      "[1 4 9]\n"
     ]
    }
   ],
   "source": [
    "# Applying a function to an array\n",
    "arr = np.array([1, 2, 3])\n",
    "arr_squared = np.square(arr)\n",
    "print(arr_squared)"
   ]
  },
  {
   "cell_type": "markdown",
   "id": "5a21ec11",
   "metadata": {},
   "source": [
    "# Broadcasting"
   ]
  },
  {
   "cell_type": "code",
   "execution_count": 15,
   "id": "d1ff0120",
   "metadata": {},
   "outputs": [
    {
     "name": "stdout",
     "output_type": "stream",
     "text": [
      "[[3 4]\n",
      " [5 6]]\n"
     ]
    }
   ],
   "source": [
    "# Broadcasting a scalar to an array\n",
    "arr = np.array([[1, 2], [3, 4]])\n",
    "scalar = 2\n",
    "arr_broadcasted = arr + scalar\n",
    "print(arr_broadcasted)"
   ]
  },
  {
   "cell_type": "code",
   "execution_count": 16,
   "id": "457c4762",
   "metadata": {},
   "outputs": [
    {
     "name": "stdout",
     "output_type": "stream",
     "text": [
      "[[5 6 7]\n",
      " [6 7 8]\n",
      " [7 8 9]]\n"
     ]
    }
   ],
   "source": [
    "# Broadcasting an array to another array\n",
    "arr1 = np.array([1, 2, 3])\n",
    "arr2 = np.array([[4], [5], [6]])\n",
    "arr_broadcasted = arr1 + arr2\n",
    "print(arr_broadcasted)"
   ]
  },
  {
   "cell_type": "markdown",
   "id": "bb5ac1ec",
   "metadata": {},
   "source": [
    "# Indexing and Slicing"
   ]
  },
  {
   "cell_type": "code",
   "execution_count": 17,
   "id": "58c57238",
   "metadata": {},
   "outputs": [
    {
     "name": "stdout",
     "output_type": "stream",
     "text": [
      "3\n"
     ]
    }
   ],
   "source": [
    "# Indexing an array\n",
    "arr = np.array([1, 2, 3, 4, 5])\n",
    "element = arr[2]\n",
    "print(element)"
   ]
  },
  {
   "cell_type": "code",
   "execution_count": 18,
   "id": "c8604a72",
   "metadata": {},
   "outputs": [
    {
     "name": "stdout",
     "output_type": "stream",
     "text": [
      "[2 3 4]\n"
     ]
    }
   ],
   "source": [
    "# Slicing an array\n",
    "arr = np.array([1, 2, 3, 4, 5])\n",
    "subset = arr[1:4]\n",
    "print(subset)"
   ]
  },
  {
   "cell_type": "code",
   "execution_count": 19,
   "id": "c48439f4",
   "metadata": {},
   "outputs": [
    {
     "name": "stdout",
     "output_type": "stream",
     "text": [
      "3\n"
     ]
    }
   ],
   "source": [
    "# Indexing a 2D array\n",
    "arr = np.array([[1, 2], [3, 4]])\n",
    "element = arr[1, 0]\n",
    "print(element)"
   ]
  },
  {
   "cell_type": "code",
   "execution_count": 20,
   "id": "0ac7916a",
   "metadata": {},
   "outputs": [
    {
     "name": "stdout",
     "output_type": "stream",
     "text": [
      "[[2 3]\n",
      " [5 6]]\n"
     ]
    }
   ],
   "source": [
    "# Slicing a 2D array\n",
    "arr = np.array([[1, 2, 3], [4, 5, 6], [7, 8, 9]])\n",
    "subset = arr[:2, 1:]\n",
    "print(subset)"
   ]
  },
  {
   "cell_type": "markdown",
   "id": "e6c91c3e",
   "metadata": {},
   "source": [
    "# Linear Algebra"
   ]
  },
  {
   "cell_type": "code",
   "execution_count": 21,
   "id": "a84f8c8f",
   "metadata": {},
   "outputs": [
    {
     "name": "stdout",
     "output_type": "stream",
     "text": [
      "[[19 22]\n",
      " [43 50]]\n"
     ]
    }
   ],
   "source": [
    "# Matrix multiplication\n",
    "arr1 = np.array([[1, 2], [3, 4]])\n",
    "arr2 = np.array([[5, 6], [7, 8]])\n",
    "arr_product = np.dot(arr1, arr2)\n",
    "print(arr_product)"
   ]
  },
  {
   "cell_type": "code",
   "execution_count": 25,
   "id": "d5c96dae",
   "metadata": {},
   "outputs": [
    {
     "name": "stdout",
     "output_type": "stream",
     "text": [
      "[-0.37228132  5.37228132] [[-0.82456484 -0.41597356]\n",
      " [ 0.56576746 -0.90937671]]\n"
     ]
    }
   ],
   "source": [
    "# Matrix decomposition\n",
    "arr = np.array([[1, 2], [3, 4]])\n",
    "arr_eigvals, arr_eigvecs = np.linalg.eig(arr)\n",
    "print(arr_eigvals, arr_eigvecs)"
   ]
  },
  {
   "cell_type": "markdown",
   "id": "f23890bd",
   "metadata": {},
   "source": [
    "# Random Number Generation"
   ]
  },
  {
   "cell_type": "code",
   "execution_count": 26,
   "id": "2c3cf3bb",
   "metadata": {},
   "outputs": [
    {
     "name": "stdout",
     "output_type": "stream",
     "text": [
      "[[0.47815676 0.83042184 0.12297298]\n",
      " [0.01593869 0.62498303 0.28668752]]\n"
     ]
    }
   ],
   "source": [
    "# Generating random numbers from a uniform distribution\n",
    "arr = np.random.uniform(low=0.0, high=1.0, size=(2, 3))\n",
    "print(arr)"
   ]
  },
  {
   "cell_type": "code",
   "execution_count": 27,
   "id": "e8ac8471",
   "metadata": {},
   "outputs": [
    {
     "name": "stdout",
     "output_type": "stream",
     "text": [
      "[[ 1.44735867 -0.67041276 -0.27196898]\n",
      " [-0.33735986  1.57136937  0.00886673]]\n"
     ]
    }
   ],
   "source": [
    "# Generating random numbers from a normal distribution\n",
    "arr = np.random.normal(loc=0.0, scale=1.0, size=(2, 3))\n",
    "print(arr)"
   ]
  },
  {
   "cell_type": "markdown",
   "id": "d6b861a6",
   "metadata": {},
   "source": [
    "# Masking and Filtering"
   ]
  },
  {
   "cell_type": "code",
   "execution_count": 28,
   "id": "d2a9c9e1",
   "metadata": {},
   "outputs": [
    {
     "name": "stdout",
     "output_type": "stream",
     "text": [
      "Original array:\n",
      "[[67 74 92 51]\n",
      " [28 74 17 53]\n",
      " [55 32 85 97]\n",
      " [16 83 10 47]]\n",
      "Filtered array:\n",
      "[67 74 92 51 74 53 55 85 97 83]\n"
     ]
    }
   ],
   "source": [
    "# Createing a random 2D array of size 4x4\n",
    "arr = np.random.randint(0, 100, size=(4, 4))\n",
    "\n",
    "# Createing a boolean mask to filter out elements less than 50\n",
    "mask = arr >= 50\n",
    "\n",
    "# Applying the boolean mask to the array to filter out elements\n",
    "filtered_arr = arr[mask]\n",
    "\n",
    "print(\"Original array:\")\n",
    "print(arr)\n",
    "print(\"Filtered array:\")\n",
    "print(filtered_arr)"
   ]
  },
  {
   "cell_type": "markdown",
   "id": "41fcc681",
   "metadata": {},
   "source": [
    "# Fourier Transforms"
   ]
  },
  {
   "cell_type": "code",
   "execution_count": 40,
   "id": "e6a082c8",
   "metadata": {},
   "outputs": [
    {
     "data": {
      "image/png": "[encoded data removed]",
      "text/plain": [
       "<Figure size 800x600 with 2 Axes>"
      ]
     },
     "metadata": {},
     "output_type": "display_data"
    }
   ],
   "source": [
    "import matplotlib.pyplot as plt\n",
    "\n",
    "# Defining a signal\n",
    "t = np.linspace(0, 1, 500)  # 500 samples between 0 and 1\n",
    "x = 2*np.sin(2*np.pi*10*t) + 3*np.sin(2*np.pi*20*t) + 4*np.sin(2*np.pi*30*t)\n",
    "\n",
    "# Computing the Fourier transform of the signal\n",
    "X = np.fft.fft(x)\n",
    "\n",
    "# Computing the frequencies corresponding to each Fourier coefficient\n",
    "freqs = np.fft.fftfreq(len(x), t[1]-t[0])\n",
    "\n",
    "# Ploting the signal and its Fourier transform\n",
    "import matplotlib.pyplot as plt\n",
    "\n",
    "fig, ax = plt.subplots(2, 1, figsize=(8, 6))\n",
    "ax[0].plot(t, x)\n",
    "ax[0].set_xlabel('Time (s)')\n",
    "ax[0].set_ylabel('Amplitude')\n",
    "ax[1].plot(freqs, np.abs(X))\n",
    "ax[1].set_xlabel('Frequency (Hz)')\n",
    "ax[1].set_ylabel('Magnitude')\n",
    "plt.show()"
   ]
  },
  {
   "cell_type": "markdown",
   "id": "6cfe05ea",
   "metadata": {},
   "source": [
    "# File I/O"
   ]
  },
  {
   "cell_type": "code",
   "execution_count": 41,
   "id": "e9bf9cc7",
   "metadata": {},
   "outputs": [
    {
     "name": "stdout",
     "output_type": "stream",
     "text": [
      "Original array:\n",
      "[[0.57017883 0.79763377 0.70915745]\n",
      " [0.67367405 0.01201585 0.02693551]\n",
      " [0.15785341 0.66936731 0.74128152]]\n",
      "Loaded array:\n",
      "[[0.57017883 0.79763377 0.70915745]\n",
      " [0.67367405 0.01201585 0.02693551]\n",
      " [0.15785341 0.66936731 0.74128152]]\n"
     ]
    }
   ],
   "source": [
    "# Creating a random 2D array of size 3x3\n",
    "arr = np.random.rand(3, 3)\n",
    "\n",
    "# Saving the array to a CSV file\n",
    "np.savetxt(\"array.csv\", arr, delimiter=\",\")\n",
    "\n",
    "# Loading the array from the CSV file\n",
    "loaded_arr = np.loadtxt(\"array.csv\", delimiter=\",\")\n",
    "\n",
    "print(\"Original array:\")\n",
    "print(arr)\n",
    "print(\"Loaded array:\")\n",
    "print(loaded_arr)"
   ]
  },
  {
   "cell_type": "markdown",
   "id": "71789440",
   "metadata": {},
   "source": [
    "# Performance Optimization"
   ]
  },
  {
   "cell_type": "code",
   "execution_count": 46,
   "id": "69dd5236",
   "metadata": {},
   "outputs": [
    {
     "name": "stdout",
     "output_type": "stream",
     "text": [
      "Loop time: 0.16348505020141602\n",
      "NumPy time: 0.0005109310150146484\n"
     ]
    }
   ],
   "source": [
    "import time\n",
    "\n",
    "# Creating a large random array of size 1000000\n",
    "arr = np.random.rand(1000000)\n",
    "\n",
    "# Computing the sum of the array using a loop\n",
    "start_time = time.time()\n",
    "sum = 0\n",
    "for i in range(len(arr)):\n",
    "    sum += arr[i]\n",
    "end_time = time.time()\n",
    "print(\"Loop time:\", end_time - start_time)\n",
    "\n",
    "# Computing the sum of the array using NumPy's sum function\n",
    "start_time = time.time()\n",
    "sum = np.sum(arr)\n",
    "end_time = time.time()\n",
    "print(\"NumPy time:\", end_time - start_time)"
   ]
  },
  {
   "cell_type": "code",
   "execution_count": null,
   "id": "f94ca2fa",
   "metadata": {},
   "outputs": [],
   "source": []
  },
  {
   "cell_type": "code",
   "execution_count": null,
   "id": "8eb7fee5",
   "metadata": {},
   "outputs": [],
   "source": []
  }
 ],
 "metadata": {
  "kernelspec": {
   "display_name": "Python 3 (ipykernel)",
   "language": "python",
   "name": "python3"
  },
  "language_info": {
   "codemirror_mode": {
    "name": "ipython",
    "version": 3
   },
   "file_extension": ".py",
   "mimetype": "text/x-python",
   "name": "python",
   "nbconvert_exporter": "python",
   "pygments_lexer": "ipython3",
   "version": "3.9.16"
  }
 },
 "nbformat": 4,
 "nbformat_minor": 5
}
